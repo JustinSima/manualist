{
 "cells": [
  {
   "cell_type": "code",
   "execution_count": 37,
   "id": "dc5695b6",
   "metadata": {},
   "outputs": [],
   "source": [
    "import numpy as np\n",
    "import pandas as pd\n",
    "import matplotlib.pyplot as plt\n"
   ]
  },
  {
   "cell_type": "code",
   "execution_count": 38,
   "id": "c2fe048e",
   "metadata": {},
   "outputs": [
    {
     "data": {
      "text/html": [
       "<div>\n",
       "<style scoped>\n",
       "    .dataframe tbody tr th:only-of-type {\n",
       "        vertical-align: middle;\n",
       "    }\n",
       "\n",
       "    .dataframe tbody tr th {\n",
       "        vertical-align: top;\n",
       "    }\n",
       "\n",
       "    .dataframe thead th {\n",
       "        text-align: right;\n",
       "    }\n",
       "</style>\n",
       "<table border=\"1\" class=\"dataframe\">\n",
       "  <thead>\n",
       "    <tr style=\"text-align: right;\">\n",
       "      <th></th>\n",
       "      <th>vid_id</th>\n",
       "      <th>width</th>\n",
       "      <th>length</th>\n",
       "      <th>frames</th>\n",
       "      <th>fps</th>\n",
       "    </tr>\n",
       "  </thead>\n",
       "  <tbody>\n",
       "    <tr>\n",
       "      <th>0</th>\n",
       "      <td>69241</td>\n",
       "      <td>1280.0</td>\n",
       "      <td>1280.0</td>\n",
       "      <td>75.0</td>\n",
       "      <td>29.97003</td>\n",
       "    </tr>\n",
       "    <tr>\n",
       "      <th>1</th>\n",
       "      <td>65225</td>\n",
       "      <td>0.0</td>\n",
       "      <td>0.0</td>\n",
       "      <td>0.0</td>\n",
       "      <td>0.00000</td>\n",
       "    </tr>\n",
       "    <tr>\n",
       "      <th>2</th>\n",
       "      <td>68011</td>\n",
       "      <td>636.0</td>\n",
       "      <td>636.0</td>\n",
       "      <td>55.0</td>\n",
       "      <td>29.97003</td>\n",
       "    </tr>\n",
       "    <tr>\n",
       "      <th>3</th>\n",
       "      <td>68208</td>\n",
       "      <td>0.0</td>\n",
       "      <td>0.0</td>\n",
       "      <td>0.0</td>\n",
       "      <td>0.00000</td>\n",
       "    </tr>\n",
       "    <tr>\n",
       "      <th>4</th>\n",
       "      <td>68012</td>\n",
       "      <td>1280.0</td>\n",
       "      <td>1280.0</td>\n",
       "      <td>113.0</td>\n",
       "      <td>30.00000</td>\n",
       "    </tr>\n",
       "  </tbody>\n",
       "</table>\n",
       "</div>"
      ],
      "text/plain": [
       "   vid_id   width  length  frames       fps\n",
       "0   69241  1280.0  1280.0    75.0  29.97003\n",
       "1   65225     0.0     0.0     0.0   0.00000\n",
       "2   68011   636.0   636.0    55.0  29.97003\n",
       "3   68208     0.0     0.0     0.0   0.00000\n",
       "4   68012  1280.0  1280.0   113.0  30.00000"
      ]
     },
     "execution_count": 38,
     "metadata": {},
     "output_type": "execute_result"
    }
   ],
   "source": [
    "data = pd.read_csv('video-properties.csv')\n",
    "data.head()\n"
   ]
  },
  {
   "cell_type": "code",
   "execution_count": 39,
   "id": "7a2595ae",
   "metadata": {},
   "outputs": [
    {
     "data": {
      "text/html": [
       "<div>\n",
       "<style scoped>\n",
       "    .dataframe tbody tr th:only-of-type {\n",
       "        vertical-align: middle;\n",
       "    }\n",
       "\n",
       "    .dataframe tbody tr th {\n",
       "        vertical-align: top;\n",
       "    }\n",
       "\n",
       "    .dataframe thead th {\n",
       "        text-align: right;\n",
       "    }\n",
       "</style>\n",
       "<table border=\"1\" class=\"dataframe\">\n",
       "  <thead>\n",
       "    <tr style=\"text-align: right;\">\n",
       "      <th></th>\n",
       "      <th>vid_id</th>\n",
       "      <th>width</th>\n",
       "      <th>length</th>\n",
       "      <th>frames</th>\n",
       "      <th>fps</th>\n",
       "      <th>seconds</th>\n",
       "    </tr>\n",
       "  </thead>\n",
       "  <tbody>\n",
       "    <tr>\n",
       "      <th>0</th>\n",
       "      <td>69241</td>\n",
       "      <td>1280.0</td>\n",
       "      <td>1280.0</td>\n",
       "      <td>75.0</td>\n",
       "      <td>29.97003</td>\n",
       "      <td>2.502500</td>\n",
       "    </tr>\n",
       "    <tr>\n",
       "      <th>1</th>\n",
       "      <td>65225</td>\n",
       "      <td>0.0</td>\n",
       "      <td>0.0</td>\n",
       "      <td>0.0</td>\n",
       "      <td>0.00000</td>\n",
       "      <td>NaN</td>\n",
       "    </tr>\n",
       "    <tr>\n",
       "      <th>2</th>\n",
       "      <td>68011</td>\n",
       "      <td>636.0</td>\n",
       "      <td>636.0</td>\n",
       "      <td>55.0</td>\n",
       "      <td>29.97003</td>\n",
       "      <td>1.835167</td>\n",
       "    </tr>\n",
       "    <tr>\n",
       "      <th>3</th>\n",
       "      <td>68208</td>\n",
       "      <td>0.0</td>\n",
       "      <td>0.0</td>\n",
       "      <td>0.0</td>\n",
       "      <td>0.00000</td>\n",
       "      <td>NaN</td>\n",
       "    </tr>\n",
       "    <tr>\n",
       "      <th>4</th>\n",
       "      <td>68012</td>\n",
       "      <td>1280.0</td>\n",
       "      <td>1280.0</td>\n",
       "      <td>113.0</td>\n",
       "      <td>30.00000</td>\n",
       "      <td>3.766667</td>\n",
       "    </tr>\n",
       "  </tbody>\n",
       "</table>\n",
       "</div>"
      ],
      "text/plain": [
       "   vid_id   width  length  frames       fps   seconds\n",
       "0   69241  1280.0  1280.0    75.0  29.97003  2.502500\n",
       "1   65225     0.0     0.0     0.0   0.00000       NaN\n",
       "2   68011   636.0   636.0    55.0  29.97003  1.835167\n",
       "3   68208     0.0     0.0     0.0   0.00000       NaN\n",
       "4   68012  1280.0  1280.0   113.0  30.00000  3.766667"
      ]
     },
     "execution_count": 39,
     "metadata": {},
     "output_type": "execute_result"
    }
   ],
   "source": [
    "# Infer time.\n",
    "data['seconds'] = data['frames'] / data['fps']\n",
    "data.head()\n"
   ]
  },
  {
   "cell_type": "code",
   "execution_count": 40,
   "id": "e5c81b14",
   "metadata": {},
   "outputs": [
    {
     "data": {
      "image/png": "[encoded data removed]",
      "text/plain": [
       "<Figure size 432x288 with 1 Axes>"
      ]
     },
     "metadata": {
      "needs_background": "light"
     },
     "output_type": "display_data"
    },
    {
     "data": {
      "image/png": "[encoded data removed]",
      "text/plain": [
       "<Figure size 432x288 with 1 Axes>"
      ]
     },
     "metadata": {
      "needs_background": "light"
     },
     "output_type": "display_data"
    },
    {
     "data": {
      "image/png": "[encoded data removed]",
      "text/plain": [
       "<Figure size 432x288 with 1 Axes>"
      ]
     },
     "metadata": {
      "needs_background": "light"
     },
     "output_type": "display_data"
    },
    {
     "name": "stdout",
     "output_type": "stream",
     "text": [
      "Percent 10 or below: 0.7448655314708533\n",
      "Percent above 10: 0.08428591756391406\n",
      "Percent null: 0.17084855096523266\n"
     ]
    }
   ],
   "source": [
    "# Seconds.\n",
    "plt.hist(data['seconds'])\n",
    "plt.show()\n",
    "\n",
    "plt.hist(data.loc[data['seconds'] > 60, 'seconds'])\n",
    "plt.show()\n",
    "\n",
    "plt.hist(data.loc[data['seconds'] <= 60, 'seconds'])\n",
    "plt.show()\n",
    "\n",
    "print(f\"Percent 10 or below: {np.mean(data['seconds'] <= 10)}\")\n",
    "\n",
    "print(f\"Percent above 10: {np.mean(data['seconds'] > 10)}\")\n",
    "\n",
    "print(f\"Percent null: {data['seconds'].isna().mean()}\")\n"
   ]
  },
  {
   "cell_type": "code",
   "execution_count": 41,
   "id": "6ad92a94",
   "metadata": {},
   "outputs": [
    {
     "data": {
      "image/png": "[encoded data removed]",
      "text/plain": [
       "<Figure size 432x288 with 1 Axes>"
      ]
     },
     "metadata": {
      "needs_background": "light"
     },
     "output_type": "display_data"
    },
    {
     "data": {
      "image/png": "[encoded data removed]",
      "text/plain": [
       "<Figure size 432x288 with 1 Axes>"
      ]
     },
     "metadata": {
      "needs_background": "light"
     },
     "output_type": "display_data"
    },
    {
     "name": "stdout",
     "output_type": "stream",
     "text": [
      "Percent nonzero: 0.8291514490347673\n",
      "Percent 20-40: 0.9966323578238391\n",
      "Percent null: 0.0\n"
     ]
    }
   ],
   "source": [
    "# fps.\n",
    "plt.hist(data['fps'])\n",
    "plt.show()\n",
    "\n",
    "plt.hist(data.loc[data['fps'] != 0, 'fps'])\n",
    "plt.show()\n",
    "\n",
    "print(f\"Percent nonzero: {np.mean(data['fps'] != 0)}\")\n",
    "\n",
    "print(f\"Percent 20-40: {np.mean(data['fps'] > 20) and np.mean(data['fps'] < 40)}\")\n",
    "\n",
    "print(f\"Percent null: {data['fps'].isna().mean()}\")\n"
   ]
  },
  {
   "cell_type": "code",
   "execution_count": 42,
   "id": "38cbee92",
   "metadata": {},
   "outputs": [
    {
     "data": {
      "image/png": "[encoded data removed]",
      "text/plain": [
       "<Figure size 432x288 with 1 Axes>"
      ]
     },
     "metadata": {
      "needs_background": "light"
     },
     "output_type": "display_data"
    },
    {
     "data": {
      "image/png": "[encoded data removed]",
      "text/plain": [
       "<Figure size 432x288 with 1 Axes>"
      ]
     },
     "metadata": {
      "needs_background": "light"
     },
     "output_type": "display_data"
    },
    {
     "data": {
      "image/png": "[encoded data removed]",
      "text/plain": [
       "<Figure size 432x288 with 1 Axes>"
      ]
     },
     "metadata": {
      "needs_background": "light"
     },
     "output_type": "display_data"
    },
    {
     "name": "stdout",
     "output_type": "stream",
     "text": [
      "Percent 10 or below: 0.1709434141251245\n",
      "Percent below 60: 0.44566712517193946\n",
      "Percent null: 0.0\n"
     ]
    }
   ],
   "source": [
    "# Frames.\n",
    "plt.hist(data['frames'])\n",
    "plt.show()\n",
    "\n",
    "plt.hist(data.loc[data['frames'] <= 120, 'frames'])\n",
    "plt.show()\n",
    "\n",
    "plt.hist(data.loc[data['frames'] <= 60, 'frames'])\n",
    "plt.show()\n",
    "\n",
    "print(f\"Percent 10 or below: {np.mean(data['frames'] <= 10)}\")\n",
    "\n",
    "print(f\"Percent below 60: {np.mean(data['frames'] <= 60)}\")\n",
    "\n",
    "print(f\"Percent null: {data['frames'].isna().mean()}\")\n"
   ]
  },
  {
   "cell_type": "code",
   "execution_count": 43,
   "id": "267ff7d4",
   "metadata": {},
   "outputs": [
    {
     "data": {
      "text/plain": [
       "(15197, 6)"
      ]
     },
     "execution_count": 43,
     "metadata": {},
     "output_type": "execute_result"
    }
   ],
   "source": [
    "data_filtered = data.loc[\n",
    "    (data['seconds'] <= 10)\n",
    "    &\n",
    "    ~(data['seconds'].isna())\n",
    "    &\n",
    "    (data['fps'] > 20)\n",
    "    &\n",
    "    (data['fps'] < 40)\n",
    "    &\n",
    "    (data['frames'] <= 120)\n",
    "]\n",
    "\n",
    "data_filtered.shape"
   ]
  },
  {
   "cell_type": "code",
   "execution_count": 44,
   "id": "ff18da40",
   "metadata": {},
   "outputs": [
    {
     "data": {
      "image/png": "[encoded data removed]",
      "text/plain": [
       "<Figure size 432x288 with 1 Axes>"
      ]
     },
     "metadata": {
      "needs_background": "light"
     },
     "output_type": "display_data"
    },
    {
     "data": {
      "image/png": "[encoded data removed]",
      "text/plain": [
       "<Figure size 432x288 with 1 Axes>"
      ]
     },
     "metadata": {
      "needs_background": "light"
     },
     "output_type": "display_data"
    },
    {
     "data": {
      "image/png": "[encoded data removed]",
      "text/plain": [
       "<Figure size 432x288 with 1 Axes>"
      ]
     },
     "metadata": {
      "needs_background": "light"
     },
     "output_type": "display_data"
    },
    {
     "data": {
      "image/png": "[encoded data removed]",
      "text/plain": [
       "<Figure size 432x288 with 1 Axes>"
      ]
     },
     "metadata": {
      "needs_background": "light"
     },
     "output_type": "display_data"
    },
    {
     "data": {
      "image/png": "[encoded data removed]",
      "text/plain": [
       "<Figure size 432x288 with 1 Axes>"
      ]
     },
     "metadata": {
      "needs_background": "light"
     },
     "output_type": "display_data"
    }
   ],
   "source": [
    "plt.hist(data_filtered['frames'])\n",
    "plt.show()\n",
    "\n",
    "plt.hist(data_filtered['seconds'])\n",
    "plt.show()\n",
    "\n",
    "plt.hist(data_filtered['fps'])\n",
    "plt.show()\n",
    "\n",
    "plt.hist(data_filtered['width'])\n",
    "plt.show()\n",
    "\n",
    "plt.hist(data_filtered['length'])\n",
    "plt.show()\n"
   ]
  },
  {
   "cell_type": "code",
   "execution_count": 45,
   "id": "908ab018",
   "metadata": {},
   "outputs": [
    {
     "data": {
      "text/plain": [
       "0.7208177204382678"
      ]
     },
     "execution_count": 45,
     "metadata": {},
     "output_type": "execute_result"
    }
   ],
   "source": [
    "data_filtered.shape[0] / data.shape[0]\n"
   ]
  },
  {
   "cell_type": "code",
   "execution_count": 46,
   "id": "dc14434a",
   "metadata": {},
   "outputs": [
    {
     "data": {
      "text/plain": [
       "vid_id     0\n",
       "width      0\n",
       "length     0\n",
       "frames     0\n",
       "fps        0\n",
       "seconds    0\n",
       "dtype: int64"
      ]
     },
     "execution_count": 46,
     "metadata": {},
     "output_type": "execute_result"
    }
   ],
   "source": [
    "data_filtered.isna().sum()\n"
   ]
  },
  {
   "cell_type": "code",
   "execution_count": 47,
   "id": "286af92c",
   "metadata": {},
   "outputs": [],
   "source": [
    "data_filtered.to_csv('data-filtered.csv', index=False)\n"
   ]
  }
 ],
 "metadata": {
  "kernelspec": {
   "display_name": "Python [conda env:my_env] *",
   "language": "python",
   "name": "conda-env-my_env-py"
  },
  "language_info": {
   "codemirror_mode": {
    "name": "ipython",
    "version": 3
   },
   "file_extension": ".py",
   "mimetype": "text/x-python",
   "name": "python",
   "nbconvert_exporter": "python",
   "pygments_lexer": "ipython3",
   "version": "3.9.7"
  }
 },
 "nbformat": 4,
 "nbformat_minor": 5
}
