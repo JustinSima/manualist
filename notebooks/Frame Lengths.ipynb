{
 "cells": [
  {
   "cell_type": "code",
   "execution_count": 11,
   "id": "28089892",
   "metadata": {},
   "outputs": [],
   "source": [
    "import os\n",
    "import json\n",
    "import pandas as pd\n"
   ]
  },
  {
   "cell_type": "code",
   "execution_count": 12,
   "id": "9d2bb771",
   "metadata": {},
   "outputs": [],
   "source": [
    "TRAIN_DIR = '/Users/justinsima/dir/projects/sign-ai/files/data/train/'\n",
    "VAL_DIR = '/Users/justinsima/dir/projects/sign-ai/files/data/val/'\n",
    "TEST_DIR = '/Users/justinsima/dir/projects/sign-ai/files/data/test/'\n"
   ]
  },
  {
   "cell_type": "code",
   "execution_count": 14,
   "id": "460c2af5",
   "metadata": {},
   "outputs": [],
   "source": [
    "file_lengths = {}\n",
    "for directory in [TRAIN_DIR, VAL_DIR, TEST_DIR]:\n",
    "    all_files = [os.path.join(directory, name)\n",
    "        for name in os.listdir(directory)\n",
    "        if os.path.isfile(os.path.join(directory, name))\n",
    "            and name.endswith('.json')]\n",
    "\n",
    "    for sample in all_files:\n",
    "        with open(sample, 'r') as f:\n",
    "            sample_dict = json.load(f)\n",
    "\n",
    "        sample_length = len(sample_dict['features'])\n",
    "        sample_id = sample_dict['vid_id']\n",
    "        file_lengths[sample_id] = sample_length\n"
   ]
  },
  {
   "cell_type": "code",
   "execution_count": 15,
   "id": "5f603bf2",
   "metadata": {},
   "outputs": [],
   "source": [
    "with open('frame-numbers.json', 'w') as f:\n",
    "    json.dump(file_lengths, f)\n"
   ]
  },
  {
   "cell_type": "code",
   "execution_count": null,
   "id": "835cbffd",
   "metadata": {},
   "outputs": [],
   "source": []
  }
 ],
 "metadata": {
  "kernelspec": {
   "display_name": "Python 3 (ipykernel)",
   "language": "python",
   "name": "python3"
  },
  "language_info": {
   "codemirror_mode": {
    "name": "ipython",
    "version": 3
   },
   "file_extension": ".py",
   "mimetype": "text/x-python",
   "name": "python",
   "nbconvert_exporter": "python",
   "pygments_lexer": "ipython3",
   "version": "3.9.7"
  }
 },
 "nbformat": 4,
 "nbformat_minor": 5
}
