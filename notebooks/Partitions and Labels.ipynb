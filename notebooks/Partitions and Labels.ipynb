{
 "cells": [
  {
   "cell_type": "code",
   "execution_count": 3,
   "id": "70d8509e",
   "metadata": {},
   "outputs": [],
   "source": [
    "import json\n",
    "import pandas as pd\n"
   ]
  },
  {
   "cell_type": "code",
   "execution_count": 4,
   "id": "6a37f353",
   "metadata": {},
   "outputs": [],
   "source": [
    "DATA_SOURCE = '/Users/justinsima/dir/projects/major/sign-ai/files/WLASL/start_kit/WLASL_v0.3.json'\n",
    "DATA_SOURCE_2 = '/Users/justinsima/dir/projects/major/sign-ai/files/data/data-filtered.csv'\n"
   ]
  },
  {
   "cell_type": "code",
   "execution_count": 5,
   "id": "bbe2c9af",
   "metadata": {},
   "outputs": [],
   "source": [
    "with open(DATA_SOURCE, 'r') as f:\n",
    "    data = json.load(f)\n"
   ]
  },
  {
   "cell_type": "code",
   "execution_count": 6,
   "id": "e2307ac2",
   "metadata": {},
   "outputs": [],
   "source": [
    "partitions = {'train':[], 'val':[], 'test':[]}\n",
    "labels = {}\n",
    "\n",
    "for class_ in data:\n",
    "    label = class_['gloss']\n",
    "    for instance in class_['instances']:\n",
    "        labels[int(instance['video_id'])] = label\n",
    "        # Inefficiently append to partitions.\n",
    "        if instance['split'] == 'train':\n",
    "            partitions['train'].append(int(instance['video_id']))\n",
    "            \n",
    "        if instance['split'] == 'val':\n",
    "            partitions['val'].append(int(instance['video_id']))\n",
    "            \n",
    "        if instance['split'] == 'test':\n",
    "            partitions['test'].append(int(instance['video_id']))\n"
   ]
  },
  {
   "cell_type": "code",
   "execution_count": 7,
   "id": "6e0659a7",
   "metadata": {},
   "outputs": [],
   "source": [
    "with open('partitions.json', 'w') as f:\n",
    "    json.dump(partitions, f)\n",
    "    \n",
    "with open('labels.json', 'w') as f:\n",
    "    json.dump(labels, f)\n"
   ]
  },
  {
   "cell_type": "code",
   "execution_count": 8,
   "id": "70e01f80",
   "metadata": {},
   "outputs": [],
   "source": [
    "data_filtered = pd.read_csv(DATA_SOURCE_2)\n",
    "vid_ids = [vid for vid in data_filtered['vid_id']]\n",
    "\n",
    "train_filtered = [vid for vid in partitions['train'] if vid in vid_ids]\n",
    "val_filtered = [vid for vid in partitions['val'] if vid in vid_ids]\n",
    "test_filtered = [vid for vid in partitions['test'] if vid in vid_ids]\n",
    "\n",
    "partitions_filtered = {\n",
    "    'train':train_filtered,\n",
    "    'val':val_filtered,\n",
    "    'test':test_filtered\n",
    "}\n"
   ]
  },
  {
   "cell_type": "code",
   "execution_count": 9,
   "id": "c0e508f9",
   "metadata": {},
   "outputs": [],
   "source": [
    "with open('partitions-filtered.json', 'w') as f:\n",
    "    json.dump(partitions_filtered, f)\n"
   ]
  }
 ],
 "metadata": {
  "kernelspec": {
   "display_name": "Python [conda env:my_env] *",
   "language": "python",
   "name": "conda-env-my_env-py"
  },
  "language_info": {
   "codemirror_mode": {
    "name": "ipython",
    "version": 3
   },
   "file_extension": ".py",
   "mimetype": "text/x-python",
   "name": "python",
   "nbconvert_exporter": "python",
   "pygments_lexer": "ipython3",
   "version": "3.9.7"
  }
 },
 "nbformat": 4,
 "nbformat_minor": 5
}
